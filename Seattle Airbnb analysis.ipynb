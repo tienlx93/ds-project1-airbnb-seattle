{
 "cells": [
  {
   "cell_type": "markdown",
   "metadata": {},
   "source": [
    "# How to create a best listing on Airbnb? A study from Seattle Airbnb listing data"
   ]
  },
  {
   "cell_type": "markdown",
   "metadata": {},
   "source": [
    "#### In this study, we will look into the listing data from Seatlle to find most interesting facts about it.\n",
    "\n",
    "We will focus on how to create a good listing, and what aspect impact the most on pricing, user review & popularity of a listing.\n",
    "\n",
    "The provided data included:\n",
    "- `listings.csv`: detail of the listing, include detail of rental, place, pricing, user review\n",
    "- `reviews.csv`: detail of all review of places\n",
    "- `calendar.csv`: detail of pricing & avaiability of listings by day\n",
    "\n",
    "On this study, we will focus on `listings.csv` and `calendar.csv` which provided information on pricing & user scores. `reviews.csv` is more focus on review detail which also has a overview on how to create good listing description.\n",
    "\n",
    "This study included 4 parts:\n",
    "- Part 1: Review & cleanup data\n",
    "- Part 2: Pricing overview\n",
    "- Part 3: How to get good impression by title, description & user reviews\n",
    "- Part 4: What aspect affect pricing & user review"
   ]
  },
  {
   "cell_type": "markdown",
   "metadata": {},
   "source": [
    "## Part 1: Review & cleanup data"
   ]
  },
  {
   "cell_type": "code",
   "execution_count": 1,
   "metadata": {},
   "outputs": [],
   "source": [
    "import numpy as np\n",
    "import pandas as pd\n",
    "import matplotlib.pyplot as plt\n",
    "from sklearn.linear_model import LinearRegression\n",
    "from sklearn.model_selection import train_test_split\n",
    "from sklearn.metrics import r2_score, mean_squared_error\n",
    "import seaborn as sns"
   ]
  },
  {
   "cell_type": "code",
   "execution_count": 2,
   "metadata": {},
   "outputs": [],
   "source": [
    "# load data\n",
    "listings_df = pd.read_csv('./data/listings.csv', parse_dates=['first_review', 'last_review', 'host_since'])\n",
    "calendar_df = pd.read_csv('./data/calendar.csv', parse_dates=['date'])\n",
    "reviews_df = pd.read_csv('./data/reviews.csv')"
   ]
  },
  {
   "cell_type": "markdown",
   "metadata": {},
   "source": [
    "### Cleaning calendar_df"
   ]
  },
  {
   "cell_type": "code",
   "execution_count": 3,
   "metadata": {},
   "outputs": [
    {
     "data": {
      "text/html": [
       "<div>\n",
       "<style scoped>\n",
       "    .dataframe tbody tr th:only-of-type {\n",
       "        vertical-align: middle;\n",
       "    }\n",
       "\n",
       "    .dataframe tbody tr th {\n",
       "        vertical-align: top;\n",
       "    }\n",
       "\n",
       "    .dataframe thead th {\n",
       "        text-align: right;\n",
       "    }\n",
       "</style>\n",
       "<table border=\"1\" class=\"dataframe\">\n",
       "  <thead>\n",
       "    <tr style=\"text-align: right;\">\n",
       "      <th></th>\n",
       "      <th>listing_id</th>\n",
       "      <th>date</th>\n",
       "      <th>available</th>\n",
       "      <th>price</th>\n",
       "    </tr>\n",
       "  </thead>\n",
       "  <tbody>\n",
       "    <tr>\n",
       "      <th>0</th>\n",
       "      <td>241032</td>\n",
       "      <td>2016-01-04</td>\n",
       "      <td>t</td>\n",
       "      <td>$85.00</td>\n",
       "    </tr>\n",
       "    <tr>\n",
       "      <th>1</th>\n",
       "      <td>241032</td>\n",
       "      <td>2016-01-05</td>\n",
       "      <td>t</td>\n",
       "      <td>$85.00</td>\n",
       "    </tr>\n",
       "    <tr>\n",
       "      <th>2</th>\n",
       "      <td>241032</td>\n",
       "      <td>2016-01-06</td>\n",
       "      <td>f</td>\n",
       "      <td>NaN</td>\n",
       "    </tr>\n",
       "    <tr>\n",
       "      <th>3</th>\n",
       "      <td>241032</td>\n",
       "      <td>2016-01-07</td>\n",
       "      <td>f</td>\n",
       "      <td>NaN</td>\n",
       "    </tr>\n",
       "    <tr>\n",
       "      <th>4</th>\n",
       "      <td>241032</td>\n",
       "      <td>2016-01-08</td>\n",
       "      <td>f</td>\n",
       "      <td>NaN</td>\n",
       "    </tr>\n",
       "  </tbody>\n",
       "</table>\n",
       "</div>"
      ],
      "text/plain": [
       "   listing_id       date available   price\n",
       "0      241032 2016-01-04         t  $85.00\n",
       "1      241032 2016-01-05         t  $85.00\n",
       "2      241032 2016-01-06         f     NaN\n",
       "3      241032 2016-01-07         f     NaN\n",
       "4      241032 2016-01-08         f     NaN"
      ]
     },
     "execution_count": 3,
     "metadata": {},
     "output_type": "execute_result"
    }
   ],
   "source": [
    "calendar_df.head()"
   ]
  },
  {
   "cell_type": "code",
   "execution_count": 4,
   "metadata": {},
   "outputs": [],
   "source": [
    "# correct price value\n",
    "cleanup_price = lambda col: col.str.replace(',', '').str.replace('$', '').astype(np.float)\n",
    "calendar_df['price'] = cleanup_price(calendar_df['price'])"
   ]
  },
  {
   "cell_type": "code",
   "execution_count": 5,
   "metadata": {},
   "outputs": [
    {
     "name": "stdout",
     "output_type": "stream",
     "text": [
      "<class 'pandas.core.frame.DataFrame'>\n",
      "RangeIndex: 1393570 entries, 0 to 1393569\n",
      "Data columns (total 4 columns):\n",
      "listing_id    1393570 non-null int64\n",
      "date          1393570 non-null datetime64[ns]\n",
      "available     1393570 non-null object\n",
      "price         1178401 non-null float64\n",
      "dtypes: datetime64[ns](1), float64(1), int64(1), object(1)\n",
      "memory usage: 42.5+ MB\n"
     ]
    }
   ],
   "source": [
    "# missing price should be taken from latest price available of current listing, in this case the room is booked \n",
    "# forward pricing may not related to fully booked, maybe host did not update the avaiability\n",
    "calendar_df = calendar_df.groupby('listing_id').apply(lambda group: group.bfill())\n",
    "calendar_df.info()"
   ]
  },
  {
   "cell_type": "code",
   "execution_count": 6,
   "metadata": {},
   "outputs": [],
   "source": [
    "# drop records with no price available since it is not valueable\n",
    "# calendar_df = calendar_df.dropna(subset=['price'], axis=0)"
   ]
  },
  {
   "cell_type": "code",
   "execution_count": 7,
   "metadata": {},
   "outputs": [],
   "source": [
    "# fill available with 0 / 1\n",
    "calendar_df['available'] = calendar_df['available'].replace({'f': 0, 't': 1}).fillna(1).astype(np.int)"
   ]
  },
  {
   "cell_type": "markdown",
   "metadata": {},
   "source": [
    "### Cleanup listings_df"
   ]
  },
  {
   "cell_type": "code",
   "execution_count": 8,
   "metadata": {},
   "outputs": [
    {
     "data": {
      "text/html": [
       "<div>\n",
       "<style scoped>\n",
       "    .dataframe tbody tr th:only-of-type {\n",
       "        vertical-align: middle;\n",
       "    }\n",
       "\n",
       "    .dataframe tbody tr th {\n",
       "        vertical-align: top;\n",
       "    }\n",
       "\n",
       "    .dataframe thead th {\n",
       "        text-align: right;\n",
       "    }\n",
       "</style>\n",
       "<table border=\"1\" class=\"dataframe\">\n",
       "  <thead>\n",
       "    <tr style=\"text-align: right;\">\n",
       "      <th></th>\n",
       "      <th>id</th>\n",
       "      <th>listing_url</th>\n",
       "      <th>scrape_id</th>\n",
       "      <th>last_scraped</th>\n",
       "      <th>name</th>\n",
       "      <th>summary</th>\n",
       "      <th>space</th>\n",
       "      <th>description</th>\n",
       "      <th>experiences_offered</th>\n",
       "      <th>neighborhood_overview</th>\n",
       "      <th>...</th>\n",
       "      <th>review_scores_value</th>\n",
       "      <th>requires_license</th>\n",
       "      <th>license</th>\n",
       "      <th>jurisdiction_names</th>\n",
       "      <th>instant_bookable</th>\n",
       "      <th>cancellation_policy</th>\n",
       "      <th>require_guest_profile_picture</th>\n",
       "      <th>require_guest_phone_verification</th>\n",
       "      <th>calculated_host_listings_count</th>\n",
       "      <th>reviews_per_month</th>\n",
       "    </tr>\n",
       "  </thead>\n",
       "  <tbody>\n",
       "    <tr>\n",
       "      <th>0</th>\n",
       "      <td>241032</td>\n",
       "      <td>https://www.airbnb.com/rooms/241032</td>\n",
       "      <td>20160104002432</td>\n",
       "      <td>2016-01-04</td>\n",
       "      <td>Stylish Queen Anne Apartment</td>\n",
       "      <td>NaN</td>\n",
       "      <td>Make your self at home in this charming one-be...</td>\n",
       "      <td>Make your self at home in this charming one-be...</td>\n",
       "      <td>none</td>\n",
       "      <td>NaN</td>\n",
       "      <td>...</td>\n",
       "      <td>10.0</td>\n",
       "      <td>f</td>\n",
       "      <td>NaN</td>\n",
       "      <td>WASHINGTON</td>\n",
       "      <td>f</td>\n",
       "      <td>moderate</td>\n",
       "      <td>f</td>\n",
       "      <td>f</td>\n",
       "      <td>2</td>\n",
       "      <td>4.07</td>\n",
       "    </tr>\n",
       "    <tr>\n",
       "      <th>1</th>\n",
       "      <td>953595</td>\n",
       "      <td>https://www.airbnb.com/rooms/953595</td>\n",
       "      <td>20160104002432</td>\n",
       "      <td>2016-01-04</td>\n",
       "      <td>Bright &amp; Airy Queen Anne Apartment</td>\n",
       "      <td>Chemically sensitive? We've removed the irrita...</td>\n",
       "      <td>Beautiful, hypoallergenic apartment in an extr...</td>\n",
       "      <td>Chemically sensitive? We've removed the irrita...</td>\n",
       "      <td>none</td>\n",
       "      <td>Queen Anne is a wonderful, truly functional vi...</td>\n",
       "      <td>...</td>\n",
       "      <td>10.0</td>\n",
       "      <td>f</td>\n",
       "      <td>NaN</td>\n",
       "      <td>WASHINGTON</td>\n",
       "      <td>f</td>\n",
       "      <td>strict</td>\n",
       "      <td>t</td>\n",
       "      <td>t</td>\n",
       "      <td>6</td>\n",
       "      <td>1.48</td>\n",
       "    </tr>\n",
       "    <tr>\n",
       "      <th>2</th>\n",
       "      <td>3308979</td>\n",
       "      <td>https://www.airbnb.com/rooms/3308979</td>\n",
       "      <td>20160104002432</td>\n",
       "      <td>2016-01-04</td>\n",
       "      <td>New Modern House-Amazing water view</td>\n",
       "      <td>New modern house built in 2013.  Spectacular s...</td>\n",
       "      <td>Our house is modern, light and fresh with a wa...</td>\n",
       "      <td>New modern house built in 2013.  Spectacular s...</td>\n",
       "      <td>none</td>\n",
       "      <td>Upper Queen Anne is a charming neighborhood fu...</td>\n",
       "      <td>...</td>\n",
       "      <td>10.0</td>\n",
       "      <td>f</td>\n",
       "      <td>NaN</td>\n",
       "      <td>WASHINGTON</td>\n",
       "      <td>f</td>\n",
       "      <td>strict</td>\n",
       "      <td>f</td>\n",
       "      <td>f</td>\n",
       "      <td>2</td>\n",
       "      <td>1.15</td>\n",
       "    </tr>\n",
       "    <tr>\n",
       "      <th>3</th>\n",
       "      <td>7421966</td>\n",
       "      <td>https://www.airbnb.com/rooms/7421966</td>\n",
       "      <td>20160104002432</td>\n",
       "      <td>2016-01-04</td>\n",
       "      <td>Queen Anne Chateau</td>\n",
       "      <td>A charming apartment that sits atop Queen Anne...</td>\n",
       "      <td>NaN</td>\n",
       "      <td>A charming apartment that sits atop Queen Anne...</td>\n",
       "      <td>none</td>\n",
       "      <td>NaN</td>\n",
       "      <td>...</td>\n",
       "      <td>NaN</td>\n",
       "      <td>f</td>\n",
       "      <td>NaN</td>\n",
       "      <td>WASHINGTON</td>\n",
       "      <td>f</td>\n",
       "      <td>flexible</td>\n",
       "      <td>f</td>\n",
       "      <td>f</td>\n",
       "      <td>1</td>\n",
       "      <td>NaN</td>\n",
       "    </tr>\n",
       "    <tr>\n",
       "      <th>4</th>\n",
       "      <td>278830</td>\n",
       "      <td>https://www.airbnb.com/rooms/278830</td>\n",
       "      <td>20160104002432</td>\n",
       "      <td>2016-01-04</td>\n",
       "      <td>Charming craftsman 3 bdm house</td>\n",
       "      <td>Cozy family craftman house in beautiful neighb...</td>\n",
       "      <td>Cozy family craftman house in beautiful neighb...</td>\n",
       "      <td>Cozy family craftman house in beautiful neighb...</td>\n",
       "      <td>none</td>\n",
       "      <td>We are in the beautiful neighborhood of Queen ...</td>\n",
       "      <td>...</td>\n",
       "      <td>9.0</td>\n",
       "      <td>f</td>\n",
       "      <td>NaN</td>\n",
       "      <td>WASHINGTON</td>\n",
       "      <td>f</td>\n",
       "      <td>strict</td>\n",
       "      <td>f</td>\n",
       "      <td>f</td>\n",
       "      <td>1</td>\n",
       "      <td>0.89</td>\n",
       "    </tr>\n",
       "  </tbody>\n",
       "</table>\n",
       "<p>5 rows × 92 columns</p>\n",
       "</div>"
      ],
      "text/plain": [
       "        id                           listing_url       scrape_id last_scraped  \\\n",
       "0   241032   https://www.airbnb.com/rooms/241032  20160104002432   2016-01-04   \n",
       "1   953595   https://www.airbnb.com/rooms/953595  20160104002432   2016-01-04   \n",
       "2  3308979  https://www.airbnb.com/rooms/3308979  20160104002432   2016-01-04   \n",
       "3  7421966  https://www.airbnb.com/rooms/7421966  20160104002432   2016-01-04   \n",
       "4   278830   https://www.airbnb.com/rooms/278830  20160104002432   2016-01-04   \n",
       "\n",
       "                                  name  \\\n",
       "0         Stylish Queen Anne Apartment   \n",
       "1   Bright & Airy Queen Anne Apartment   \n",
       "2  New Modern House-Amazing water view   \n",
       "3                   Queen Anne Chateau   \n",
       "4       Charming craftsman 3 bdm house   \n",
       "\n",
       "                                             summary  \\\n",
       "0                                                NaN   \n",
       "1  Chemically sensitive? We've removed the irrita...   \n",
       "2  New modern house built in 2013.  Spectacular s...   \n",
       "3  A charming apartment that sits atop Queen Anne...   \n",
       "4  Cozy family craftman house in beautiful neighb...   \n",
       "\n",
       "                                               space  \\\n",
       "0  Make your self at home in this charming one-be...   \n",
       "1  Beautiful, hypoallergenic apartment in an extr...   \n",
       "2  Our house is modern, light and fresh with a wa...   \n",
       "3                                                NaN   \n",
       "4  Cozy family craftman house in beautiful neighb...   \n",
       "\n",
       "                                         description experiences_offered  \\\n",
       "0  Make your self at home in this charming one-be...                none   \n",
       "1  Chemically sensitive? We've removed the irrita...                none   \n",
       "2  New modern house built in 2013.  Spectacular s...                none   \n",
       "3  A charming apartment that sits atop Queen Anne...                none   \n",
       "4  Cozy family craftman house in beautiful neighb...                none   \n",
       "\n",
       "                               neighborhood_overview  ... review_scores_value  \\\n",
       "0                                                NaN  ...                10.0   \n",
       "1  Queen Anne is a wonderful, truly functional vi...  ...                10.0   \n",
       "2  Upper Queen Anne is a charming neighborhood fu...  ...                10.0   \n",
       "3                                                NaN  ...                 NaN   \n",
       "4  We are in the beautiful neighborhood of Queen ...  ...                 9.0   \n",
       "\n",
       "  requires_license license jurisdiction_names instant_bookable  \\\n",
       "0                f     NaN         WASHINGTON                f   \n",
       "1                f     NaN         WASHINGTON                f   \n",
       "2                f     NaN         WASHINGTON                f   \n",
       "3                f     NaN         WASHINGTON                f   \n",
       "4                f     NaN         WASHINGTON                f   \n",
       "\n",
       "  cancellation_policy  require_guest_profile_picture  \\\n",
       "0            moderate                              f   \n",
       "1              strict                              t   \n",
       "2              strict                              f   \n",
       "3            flexible                              f   \n",
       "4              strict                              f   \n",
       "\n",
       "  require_guest_phone_verification calculated_host_listings_count  \\\n",
       "0                                f                              2   \n",
       "1                                t                              6   \n",
       "2                                f                              2   \n",
       "3                                f                              1   \n",
       "4                                f                              1   \n",
       "\n",
       "  reviews_per_month  \n",
       "0              4.07  \n",
       "1              1.48  \n",
       "2              1.15  \n",
       "3               NaN  \n",
       "4              0.89  \n",
       "\n",
       "[5 rows x 92 columns]"
      ]
     },
     "execution_count": 8,
     "metadata": {},
     "output_type": "execute_result"
    }
   ],
   "source": [
    "listings_df.head()"
   ]
  },
  {
   "cell_type": "code",
   "execution_count": null,
   "metadata": {},
   "outputs": [
    {
     "name": "stdout",
     "output_type": "stream",
     "text": [
      "t    3818\n",
      "Name: has_availability, dtype: int64\n"
     ]
    }
   ],
   "source": [
    "# check columns has same values\n",
    "#print(listings_df['experiences_offered'].value_counts())\n",
    "#print(listings_df['jurisdiction_names'].value_counts())\n",
    "print(listings_df['has_availability'].value_counts())"
   ]
  },
  {
   "cell_type": "code",
   "execution_count": null,
   "metadata": {
    "scrolled": false
   },
   "outputs": [],
   "source": [
    "# percentage of missing values for each column\n",
    "listings_missing_df = listings_df.isnull().mean() * 100\n",
    "columns_with_nan = listings_missing_df[listings_missing_df > 0]\n",
    "\n",
    "# plot the results\n",
    "fig, ax = plt.subplots(figsize=(10,10))\n",
    "ax.set_title('Missing column percentage')\n",
    "columns_with_nan.plot.bar(ax=ax);"
   ]
  },
  {
   "cell_type": "code",
   "execution_count": null,
   "metadata": {},
   "outputs": [],
   "source": [
    "# cleanup unrelevant columns or columns with most missing values\n",
    "listings_df = listings_df.drop(['listing_url', 'scrape_id', 'last_scraped', 'experiences_offered', 'host_url', \n",
    "                                'host_thumbnail_url', 'host_picture_url', 'city', 'state', 'zipcode', 'market',\n",
    "                                'smart_location', 'country_code', 'country', 'calendar_last_scraped', 'jurisdiction_names',\n",
    "                                'thumbnail_url', 'medium_url', 'picture_url', 'xl_picture_url', 'square_feet',\n",
    "                               'license', 'host_total_listings_count', 'has_availability'], axis=1)"
   ]
  },
  {
   "cell_type": "code",
   "execution_count": null,
   "metadata": {},
   "outputs": [],
   "source": [
    "# replace t/f values\n",
    "\n",
    "listings_df[['host_is_superhost', 'host_has_profile_pic', 'host_identity_verified', 'require_guest_profile_picture', \n",
    "             'is_location_exact', 'require_guest_phone_verification', 'instant_bookable', \n",
    "             'require_guest_profile_picture', 'require_guest_phone_verification']\n",
    "           ] = listings_df[['host_is_superhost', 'host_has_profile_pic', 'host_identity_verified', \n",
    "                            'require_guest_profile_picture', 'is_location_exact', \n",
    "                            'require_guest_phone_verification', 'instant_bookable', \n",
    "                            'require_guest_profile_picture', 'require_guest_phone_verification']\n",
    "           ].replace({'f': 0, 't': 1}).fillna(0).astype(np.int)"
   ]
  },
  {
   "cell_type": "code",
   "execution_count": null,
   "metadata": {},
   "outputs": [],
   "source": [
    "# correct price value\n",
    "\n",
    "listings_df[['price', 'weekly_price', 'monthly_price', 'security_deposit', 'cleaning_fee', 'extra_people']\n",
    "           ] = listings_df[['price', 'weekly_price', 'monthly_price', 'security_deposit', 'cleaning_fee', 'extra_people']\n",
    "                          ].apply(cleanup_price)"
   ]
  },
  {
   "cell_type": "code",
   "execution_count": null,
   "metadata": {},
   "outputs": [],
   "source": [
    "# cleanup response rate\n",
    "listings_df['host_response_rate'] = listings_df['host_response_rate'].str.replace('%','').astype(np.float).fillna(0)\n",
    "listings_df['host_acceptance_rate'] = listings_df['host_acceptance_rate'].str.replace('%','').astype(np.float).fillna(0)\n"
   ]
  },
  {
   "cell_type": "code",
   "execution_count": null,
   "metadata": {},
   "outputs": [],
   "source": [
    "# If nan, security_deposit, cleaning_fee, extra_people fee should be 0\n",
    "listings_df[['security_deposit', 'cleaning_fee', 'extra_people']\n",
    "           ] = listings_df[['security_deposit', 'cleaning_fee', 'extra_people']].fillna(0, axis=0)"
   ]
  },
  {
   "cell_type": "code",
   "execution_count": null,
   "metadata": {
    "scrolled": true
   },
   "outputs": [],
   "source": [
    "# get the detail statics of useful quantity columns\n",
    "static_df = listings_df[['price', 'bathrooms', 'bedrooms', 'beds', 'host_listings_count', 'number_of_reviews',\n",
    "             'review_scores_rating', 'reviews_per_month', 'minimum_nights', 'maximum_nights', 'guests_included', 'extra_people'\n",
    "            ]].describe()\n",
    "static_df.to_clipboard()\n",
    "static_df"
   ]
  },
  {
   "cell_type": "markdown",
   "metadata": {},
   "source": [
    "There are 3818 listings with price, from 20 to 1000\\\\$ per night, with average of 127\\\\$.\n",
    "\n",
    "For popularity, a listing got average 2 reviews per month, and maximum of over 12 reviews.\n",
    "\n",
    "There is more common for a small place, with over 50% listing having 1 bedroom and 1 bed. The average is 1.3 bedrooms and 1.7 beds per listing, and go up to maximum 7 bedrooms and 15 beds."
   ]
  },
  {
   "cell_type": "code",
   "execution_count": null,
   "metadata": {},
   "outputs": [],
   "source": [
    "# Get overview of distribution of quantity columns and display with histogram bar chart \n",
    "fig = plt.figure(figsize = (15,20))\n",
    "ax = fig.gca()\n",
    "listings_df.hist(ax = ax)\n",
    "fig.savefig('output/distribution.png')\n",
    "fig.show();"
   ]
  },
  {
   "cell_type": "markdown",
   "metadata": {},
   "source": [
    "Based on histogrram, we can have some points of interests as bellow:\n",
    "1. Skewed right distribution on the room size & number of room, price in general, number of review. So in general, there are more small places & more reasonable for smaller groups. For number of review & review per month, it also skewed right, means that the popularity is spread to multiple places\n",
    "2. Skewed left distribution on the review scores. So places in Seattle seam to have very good user score\n",
    "3. Central (bell shaped) model for latitude and longitude. That's mean more listings are in central of Seattle than in outside\n",
    "4. For Avaiability, many places are booked on short term (30, 60, 90 days). And for long term, it is the more availability."
   ]
  },
  {
   "cell_type": "code",
   "execution_count": null,
   "metadata": {},
   "outputs": [],
   "source": [
    "# Get the correlation heatmap of most interesting quantity columns\n",
    "fig2, ax2 = plt.subplots(figsize=(15,15))\n",
    "ax2.set_title('Correlation heatmap')\n",
    "sns.heatmap(listings_df[['price', 'bathrooms', 'bedrooms', 'beds', 'host_listings_count', 'number_of_reviews',\n",
    "                        'review_scores_rating', 'reviews_per_month', 'minimum_nights', 'maximum_nights', 'guests_included',\n",
    "                        'extra_people', 'accommodates']\n",
    "                       ].corr(), annot=True, fmt=\".2f\", ax=ax2);\n",
    "fig2.savefig('output/correlation_heatmap.png')\n",
    "fig2.show();"
   ]
  },
  {
   "cell_type": "markdown",
   "metadata": {},
   "source": [
    "Based on the correlation matrix heatmap of quantity values, we found some points of interest as bellow:\n",
    "- Price has strong correlation with number of bathrooms, bedrooms, beds, number of accommodates and number of guests included. Bigger rooms and many more people will have higher price.\n",
    "- On the other hand, the popularity (based on number of reviews per month) has a slight negative correlation with pricing and other room size as listed above. Seems that smaller room attract more review & popularity more than the bigger one"
   ]
  },
  {
   "cell_type": "markdown",
   "metadata": {},
   "source": [
    "## Part 2: Price overview"
   ]
  },
  {
   "cell_type": "code",
   "execution_count": null,
   "metadata": {},
   "outputs": [],
   "source": [
    "merged_df = listings_df[['id', 'name', 'neighbourhood_group_cleansed']].merge(calendar_df, how='inner', left_on='id', right_on='listing_id')\n",
    "merged_df[['price']].describe().apply(lambda s: s.apply('{0:.5f}'.format))"
   ]
  },
  {
   "cell_type": "markdown",
   "metadata": {},
   "source": [
    "For the whole year, there are more than 1.1M nights available. The price vary from 10$ to 165$, with more than 75% at about 165$. The average price is 138$ per night (higher than the January snapshot of 127$)."
   ]
  },
  {
   "cell_type": "code",
   "execution_count": null,
   "metadata": {},
   "outputs": [],
   "source": [
    "merged_df['month'] = merged_df['date'].dt.month"
   ]
  },
  {
   "cell_type": "code",
   "execution_count": null,
   "metadata": {},
   "outputs": [],
   "source": [
    "# Average price per month in year 2016\n",
    "plt.figure(figsize=(10,7))\n",
    "plt.title('Average price per month in year 2016')\n",
    "plt.ylabel('Average price (USD)')\n",
    "plt.xlabel('Month')\n",
    "plt.xticks(np.arange(1, 13, step=1))\n",
    "plt.plot(merged_df[merged_df['date'].dt.year==2016].groupby('month')['price'].mean())\n",
    "plt.savefig('output/average_price.png')\n",
    "plt.show();"
   ]
  },
  {
   "cell_type": "markdown",
   "metadata": {},
   "source": [
    "Distributing by month, the cheapest time to book is in the first half of year, begining from 120$ average. The most expensive season is from June to April with about 150$ per night. Then the price is dropped to under 140$ average at the end of year."
   ]
  },
  {
   "cell_type": "code",
   "execution_count": null,
   "metadata": {},
   "outputs": [],
   "source": [
    "# Number of avaialble listing (able to book) in year 2016\n",
    "plt.figure(figsize=(10,7))\n",
    "plt.title('Number of avaialble listing (able to book) in year 2016')\n",
    "plt.ylabel('Number of available (nights)')\n",
    "plt.xlabel('Month')\n",
    "plt.xticks(np.arange(1, 13, step=1))\n",
    "plt.plot(merged_df[merged_df['date'].dt.year==2016].groupby('month')['available'].sum())\n",
    "plt.savefig('output/available_listing.png')\n",
    "plt.show();"
   ]
  },
  {
   "cell_type": "markdown",
   "metadata": {},
   "source": [
    "The listing is captured durring January. Based on this chart, we can see that people ussualy book up ahead about 3 months, so number of listing available is increasing until March. In the rush season from June to August, people ussualy book upfront comparing to other season. Seems that the most attractive season to visit Seatle is in Summer."
   ]
  },
  {
   "cell_type": "code",
   "execution_count": null,
   "metadata": {},
   "outputs": [],
   "source": [
    "# Average pricing by neigborhood\n",
    "neighbor_price_df = merged_df[merged_df['date'].dt.year==2016].groupby('neighbourhood_group_cleansed')['price'].mean().sort_values()\n",
    "neighbor_count_df = listings_df.groupby('neighbourhood_group_cleansed')['id'].count()\n",
    "join_neighbor_df = pd.concat([neighbor_price_df, neighbor_count_df], axis=1, join='inner')\n",
    "join_neighbor_df.columns = ['Average Price (USD/night)', 'Number of listing']\n",
    "join_neighbor_df.index.name = 'Neighbourhood'\n",
    "# print(join_neighbor_df)\n",
    "# plot the results\n",
    "fig, ax = plt.subplots(figsize=(10,10))\n",
    "# ax.set_xlabel('Price (USD/night) / Number of listing')\n",
    "ax.set_ylabel('Neighborhood')\n",
    "ax.set_title('Average pricing by neighborhood')\n",
    "join_neighbor_df.plot.barh(ax=ax)\n",
    "fig.savefig('output/average_pricing_by_neighborhood.png')\n",
    "fig.show();"
   ]
  },
  {
   "cell_type": "code",
   "execution_count": null,
   "metadata": {},
   "outputs": [],
   "source": [
    "join_neighbor_df"
   ]
  },
  {
   "cell_type": "markdown",
   "metadata": {},
   "source": [
    "Most expensive neighbor in Seatle is Magnolia (200\\\\$), Downtown (180\\\\$) and Queen Anne (170\\\\$), where Downtown has most listing avaiable. The neighbor has most number of listing is Capitol Hill, which also has average pricing among others (135\\\\$)"
   ]
  },
  {
   "cell_type": "code",
   "execution_count": null,
   "metadata": {},
   "outputs": [],
   "source": [
    "property_type_count_df = listings_df.groupby('property_type')['id'].count()\n",
    "property_type_price_df = listings_df.groupby('property_type')['price'].mean().sort_values()\n",
    "property_type_df = pd.concat([property_type_price_df, property_type_count_df], axis=1, join='inner')\n",
    "property_type_df.columns = ['Average Price (USD/night)', 'Number of listing']\n",
    "property_type_df.index.name = 'Room type'\n",
    "# plot the results\n",
    "fig, ax = plt.subplots(figsize=(10,10))\n",
    "# ax.set_xlabel('Price (USD/night) / Number of listing')\n",
    "ax.set_ylabel('Room type')\n",
    "ax.set_title('Average pricing by room type')\n",
    "property_type_df.plot.barh(ax=ax)\n",
    "fig.savefig('output/average_pricing_by_room_type.png')\n",
    "fig.show();"
   ]
  },
  {
   "cell_type": "code",
   "execution_count": null,
   "metadata": {},
   "outputs": [],
   "source": [
    "property_type_df"
   ]
  },
  {
   "cell_type": "markdown",
   "metadata": {},
   "source": [
    "The room type Boat has most expensive price per night, average from 282$ per night, but also has limited number of listing. Most common room types are House and Appartment"
   ]
  },
  {
   "cell_type": "markdown",
   "metadata": {},
   "source": [
    "## Part 3: How to get good impression by title, description & user reviews"
   ]
  },
  {
   "cell_type": "code",
   "execution_count": null,
   "metadata": {},
   "outputs": [],
   "source": [
    "# Apply word count to description-like columns\n",
    "word_count = lambda sentence: 0 if pd.isnull(sentence) else str(sentence).split().__len__()\n",
    "col_word_count = lambda col: col.apply(word_count)\n",
    "listings_df[['summary_count', 'space_count', 'description_count', 'neighborhood_overview_count', 'notes_count', \n",
    "             'transit_count']\n",
    "           ] = listings_df[['summary', 'space', 'description', 'neighborhood_overview', 'notes', 'transit']\n",
    "                          ].apply(col_word_count, axis=1)"
   ]
  },
  {
   "cell_type": "code",
   "execution_count": null,
   "metadata": {
    "scrolled": true
   },
   "outputs": [],
   "source": [
    "# plot the results\n",
    "fig, ax = plt.subplots(figsize=(10,10))\n",
    "listings_df[['summary_count', 'space_count', 'description_count', 'neighborhood_overview_count', 'notes_count', \n",
    "             'transit_count']\n",
    "           ].hist(ax=ax);\n",
    "fig.savefig('output/word_count_all.png')\n",
    "fig.show();"
   ]
  },
  {
   "cell_type": "code",
   "execution_count": null,
   "metadata": {},
   "outputs": [],
   "source": [
    "top_20_percent_review_per_month = listings_df.iloc[listings_df['reviews_per_month'].sort_values(\n",
    "    ascending=False)[:int(listings_df['reviews_per_month'].count()*0.2)].index]\n",
    "top_review_df = pd.concat([top_20_percent_review_per_month, reviews_df], axis=1, join='inner')\n"
   ]
  },
  {
   "cell_type": "code",
   "execution_count": null,
   "metadata": {},
   "outputs": [],
   "source": [
    "fig, ax = plt.subplots(figsize=(10,10))\n",
    "ax.set_title('Top view summary word distribution')\n",
    "top_20_percent_review_per_month[['summary_count', 'space_count', 'description_count', 'neighborhood_overview_count', 'notes_count', \n",
    "             'transit_count']\n",
    "           ].hist(ax=ax);\n",
    "fig.savefig('output/word_count_top.png')\n",
    "fig.show();"
   ]
  },
  {
   "cell_type": "markdown",
   "metadata": {},
   "source": [
    "Host usualy writes about 150 words for description, which provide most useful information for guests. For other types of overview, host provide less information. The second useful information we can see here is the Space. \n",
    "\n",
    "There is not much different between the distribution between all listing and top 20% popular listing. But host usualy write more detail on other category than description to attract more people."
   ]
  },
  {
   "cell_type": "code",
   "execution_count": null,
   "metadata": {},
   "outputs": [],
   "source": [
    "static_count_df = listings_df[['summary_count', 'space_count', 'description_count', 'neighborhood_overview_count', 'notes_count', \n",
    "             'transit_count']].describe()\n",
    "static_count_df.to_clipboard()\n",
    "static_count_df"
   ]
  },
  {
   "cell_type": "code",
   "execution_count": null,
   "metadata": {},
   "outputs": [],
   "source": [
    "def split_set_to_columns(df, column_name, max_dummies_num = 10):\n",
    "    ''' Split amenities into columns, based on max_dummies_num\n",
    "    INPUT:\n",
    "    -df: original dataframe\n",
    "    -column_name: name of set column, example format:{TV,\"Cable TV\",Internet,\"Wireless Internet\",\"Air Conditioning\",Kitchen,\n",
    "    Heating,\"Family/Kid Friendly\",Washer,Dryer}\n",
    "    -max_dummies_num: maximum number of spliting into columns\n",
    "    OUTPUT:\n",
    "    - print out the tupple of most common amenities\n",
    "    - `column_name` is cut out from original df, then split into `max_dummies_num` categorical column'''\n",
    "    \n",
    "    # get dictionary of unique values in lists across dataset rows\n",
    "    values_dict = {}\n",
    "\n",
    "    for unique_value in df[column_name].unique(): \n",
    "        for value in unique_value.replace('{', '').replace(\"'\", '').replace('\"', '').replace('}', '').split(','):\n",
    "            if value in values_dict:\n",
    "                values_dict[value] = values_dict[value] + 1\n",
    "            else:\n",
    "                values_dict[value] = 0\n",
    "                \n",
    "    values_sorted = sorted(values_dict.items(), key=lambda kv: kv[1], reverse = True)\n",
    "    print(values_sorted)\n",
    "    # split into columns\n",
    "    for value in values_sorted[: max_dummies_num]:\n",
    "        df[column_name + '_' + value[0]] = df[column_name].str.contains(value[0]).astype(np.int)\n",
    "        \n",
    "    return values_sorted\n",
    "\n",
    "# Split the \n",
    "split_set_to_columns(listings_df, 'amenities')\n",
    "listings_df = listings_df.drop('amenities', axis=1)"
   ]
  },
  {
   "cell_type": "markdown",
   "metadata": {},
   "source": [
    "Most common amenities: Internet, heating, kitchen, smoke detector, essentials, dryer, washer, shampoo, TV"
   ]
  },
  {
   "cell_type": "code",
   "execution_count": null,
   "metadata": {},
   "outputs": [],
   "source": [
    "common_words = ['and', 'the', 'a', 'to', 'in', 'of', 'with', 'is', 'from', 'this', 'for', 'on', 'you', 'are', 'has', 'or',\n",
    "               'we', 'it', 'there', 'it', 'our', 'that', 'an', '2', 'two', '&', 'your', '-', 'have', 'one', 'have', 'will',\n",
    "               'i', 'was', 'very', 'were', 'as', 'my', 'he', 'she', 'at', 'but', 'so', 'us', 'had', 'would']\n"
   ]
  },
  {
   "cell_type": "code",
   "execution_count": null,
   "metadata": {},
   "outputs": [],
   "source": [
    "# 'summary', 'space', 'description', 'neighborhood_overview', 'transit'\n",
    "count_all_words = lambda col: col.str.lower().str.replace('.','').replace(',','').str.split(expand=True) \\\n",
    "                .stack().value_counts().drop(common_words, axis=0, errors='ignore')\n",
    "\n",
    "for col_name in ['summary', 'space', 'description', 'neighborhood_overview', 'transit']:\n",
    "    print(count_all_words(listings_df[col_name]).to_frame(name=col_name)[0:30])\n",
    "\n"
   ]
  },
  {
   "cell_type": "code",
   "execution_count": null,
   "metadata": {},
   "outputs": [],
   "source": [
    "for col_name in ['summary', 'space', 'description', 'neighborhood_overview', 'transit']:\n",
    "    print(count_all_words(top_20_percent_review_per_month[col_name]).to_frame(name=col_name)[0:30])"
   ]
  },
  {
   "cell_type": "code",
   "execution_count": null,
   "metadata": {},
   "outputs": [],
   "source": [
    "print(count_all_words(reviews_df['comments']).to_frame(name=col_name)[0:30])"
   ]
  },
  {
   "cell_type": "code",
   "execution_count": null,
   "metadata": {},
   "outputs": [],
   "source": [
    "print(count_all_words(top_review_df['comments']).to_frame(name=col_name)[0:30])"
   ]
  },
  {
   "cell_type": "markdown",
   "metadata": {},
   "source": [
    "There is also not much different between all listing and most popular listing. Host usualy describe their listing as \"private\", near to \"downtown\", able to \"walk\". On most popular listings, number of \"appartment\" is higher than \"house\", opposite to all listings.\n",
    "\n",
    "For the user comment, people usualy describe their experience as \"great\", \"nice\", \"comfortable\", \"clean\". "
   ]
  },
  {
   "cell_type": "markdown",
   "metadata": {},
   "source": [
    "# Part 4: What aspect affect pricing & user review\n",
    "Using machine learning model on both quantity and category columns, to see the most coorelation aspect that impact the price, review & popularity"
   ]
  },
  {
   "cell_type": "code",
   "execution_count": null,
   "metadata": {},
   "outputs": [],
   "source": [
    "#Dropping where the salary has missing values\n",
    "# drop fields based on relevant info & run the model multiple times to check\n",
    "drop_fields = ['id', 'summary', 'space', 'description', 'neighborhood_overview', 'notes', 'transit', \n",
    "               'host_id', 'host_name', \n",
    "               'host_verifications', 'host_about', 'host_location', 'host_neighbourhood', 'street', \n",
    "               'neighbourhood', 'neighbourhood_cleansed',\n",
    "               'weekly_price', 'monthly_price', 'name',\n",
    "               'calendar_updated', 'is_location_exact', 'availability_30',\n",
    "               'availability_60', 'availability_90', 'availability_365',\n",
    "               'latitude', 'longitude'\n",
    "              ]\n",
    "df = listings_df.drop(drop_fields, axis=1)\n",
    "\n",
    "# cleanup datetime\n",
    "# df['host_since_year'] = df['host_since'].dt.year\n",
    "# df['host_since_year'] = df['host_since_year'].fillna(df['host_since_year'].mean())\n",
    "# missing datetime should fill with last item instead of mean (maybe newly created)\n",
    "convert_to_int_and_fillna = lambda col: col.values.astype('float')\n",
    "df[['first_review', 'last_review', 'host_since']] = df[['first_review', 'last_review', 'host_since']].apply(convert_to_int_and_fillna, axis=0)\n",
    "df[['first_review', 'last_review', 'host_since']].fillna(df[['first_review', 'last_review', 'host_since']].max())\n",
    "\n",
    "df = df.drop(columns = ['host_since'])\n",
    "\n",
    "#fill in missing values for bathrooms, bedrooms and beds with mode\n",
    "df['bathrooms'] = df['bathrooms'].fillna(df['bathrooms'].mode()[0])\n",
    "df['bedrooms'] = df['bedrooms'].fillna(df['bedrooms'].mode()[0])\n",
    "df['beds'] = df['beds'].fillna(df['beds'].mode()[0])\n",
    "\n",
    "#Drop columns with all NaN values\n",
    "df = df.dropna(how='all', axis=1)\n",
    "#Pull a list of the column names of the categorical variables\n",
    "cat_df = df.select_dtypes(include=['object'])\n",
    "cat_cols = cat_df.columns\n",
    "#dummy all the cat_cols\n",
    "for col in  cat_cols:\n",
    "    df = pd.concat([df.drop(col, axis=1), pd.get_dummies(df[col], prefix=col, prefix_sep='_', \n",
    "                                                         drop_first=True, dummy_na=False)], axis=1)\n",
    "\n",
    "\n"
   ]
  },
  {
   "cell_type": "code",
   "execution_count": null,
   "metadata": {},
   "outputs": [],
   "source": [
    "df.head()"
   ]
  },
  {
   "cell_type": "code",
   "execution_count": null,
   "metadata": {},
   "outputs": [],
   "source": [
    "def get_predict(source_df, response_col, test_size=.30, random_state=42):\n",
    "    '''Get the prediction values from source_df\n",
    "    INPUT:\n",
    "    source_df (pandas Dataframe object): source dataframe\n",
    "    response_col: name of response column\n",
    "    test_sise (optional): for changing test split size\n",
    "    random_sate (optional): for changing random state of spliting\n",
    "    \n",
    "    OUTPUT:\n",
    "    test_score, train_score: LinearRegression test of train & test data\n",
    "    lm_model: LinearRegression model\n",
    "    X_train, X_test, y_train, y_test: split sets\n",
    "    '''\n",
    "    df = source_df.dropna(subset=[response_col], axis=0)\n",
    "    # Mean function\n",
    "    fill_mean = lambda col: col.fillna(col.mean())\n",
    "    # Fill the mean\n",
    "    df = df.apply(fill_mean, axis=0)\n",
    "\n",
    "    #Split into explanatory and response variables (X, y)\n",
    "    X = df.drop(response_col, axis=1)\n",
    "    y = df[response_col]\n",
    "    #Split into train and test\n",
    "    X_train, X_test, y_train, y_test = train_test_split(X, y, test_size=test_size, random_state=random_state)\n",
    "    # Instantiate\n",
    "    lm_model = LinearRegression(normalize=True)\n",
    "    # Fit\n",
    "    lm_model.fit(X_train, y_train) \n",
    "    # Predict using your model\n",
    "    y_test_preds = lm_model.predict(X_test)\n",
    "    y_train_preds = lm_model.predict(X_train)\n",
    "    # Score using your model\n",
    "    test_score = r2_score(y_test, y_test_preds)\n",
    "    train_score = r2_score(y_train, y_train_preds)\n",
    "    return test_score, train_score, lm_model, X_train, X_test, y_train, y_test"
   ]
  },
  {
   "cell_type": "code",
   "execution_count": null,
   "metadata": {},
   "outputs": [],
   "source": [
    "# predict the price. total_price should included cleaning_fee\n",
    "# df['total_price'] = df['price'] + df['cleaning_fee']\n",
    "# df_pred = df.drop(['price', 'cleaning_fee'], axis=1)\n",
    "test_score, train_score, lm_model, X_train, X_test, y_train, y_test = get_predict(df, 'price')\n",
    "print(test_score, train_score)"
   ]
  },
  {
   "cell_type": "code",
   "execution_count": null,
   "metadata": {},
   "outputs": [],
   "source": [
    "def coef_weights(coefficients, X_train):\n",
    "    '''\n",
    "    INPUT:\n",
    "    coefficients - the coefficients of the linear model \n",
    "    X_train - the training data, so the column names can be used\n",
    "    OUTPUT:\n",
    "    coefs_df - a dataframe holding the coefficient, estimate, and abs(estimate)\n",
    "    \n",
    "    Provides a dataframe that can be used to understand the most influential coefficients\n",
    "    in a linear model by providing the coefficient estimates along with the name of the \n",
    "    variable attached to the coefficient.\n",
    "    '''\n",
    "    coefs_df = pd.DataFrame()\n",
    "    coefs_df['est_int'] = X_train.columns\n",
    "    coefs_df['coefs'] = coefficients\n",
    "    coefs_df['abs_coefs'] = np.abs(coefficients)\n",
    "    coefs_df = coefs_df.sort_values('abs_coefs', ascending=False)\n",
    "    return coefs_df\n"
   ]
  },
  {
   "cell_type": "code",
   "execution_count": null,
   "metadata": {},
   "outputs": [],
   "source": [
    "#Use the function\n",
    "coef_df = coef_weights(lm_model.coef_, X_train)\n",
    "\n",
    "#A quick look at the top results\n",
    "scores = coef_df[:20].sort_values(by='abs_coefs')\n",
    "y_pos = np.arange(len(scores['est_int']))\n",
    "\n",
    "plt.figure(figsize=(10,10))\n",
    "plt.barh(y_pos, scores['coefs'])\n",
    "plt.yticks(y_pos, scores['est_int'])\n",
    "plt.ylabel('Score')\n",
    "plt.xlabel('Features')\n",
    "plt.title('Price per night correlation score')\n",
    "plt.savefig('output/price_correlation_score.png')\n",
    "plt.show();"
   ]
  },
  {
   "cell_type": "markdown",
   "metadata": {},
   "source": [
    "Simmilar to above analyst, room type \"Boat\", \"Camper/RV\" has most expensive listing, and affect most on listing. On the opposite, room type \"Shared room\", \"Dorm\", \"Tent\" has more cheaper pricing.\n",
    "\n",
    "For neighborhood, Downtown, Magnolia usually has higher price. On the other hand, Northgate has more cheaper rooms.\n",
    "\n",
    "For non-categorical values, number of bathrooms and bedrooms affect the most on pricing."
   ]
  },
  {
   "cell_type": "code",
   "execution_count": null,
   "metadata": {},
   "outputs": [],
   "source": [
    "test_score2, train_score2, lm_model2, X_train2, X_test2, y_train2, y_test2 = get_predict(df, 'reviews_per_month')\n"
   ]
  },
  {
   "cell_type": "code",
   "execution_count": null,
   "metadata": {},
   "outputs": [],
   "source": [
    "print(test_score2, train_score2)"
   ]
  },
  {
   "cell_type": "code",
   "execution_count": null,
   "metadata": {},
   "outputs": [],
   "source": [
    "#Use the function\n",
    "coef_df2 = coef_weights(lm_model2.coef_, X_train2)\n",
    "\n",
    "#A quick look at the top results\n",
    "scores = coef_df2[:20].sort_values(by='abs_coefs')\n",
    "y_pos = np.arange(len(scores['est_int']))\n",
    "\n",
    "plt.figure(figsize=(10,10))\n",
    "plt.barh(y_pos, scores['coefs'])\n",
    "plt.yticks(y_pos, scores['est_int'])\n",
    "plt.ylabel('Score')\n",
    "plt.xlabel('Features')\n",
    "plt.title('Review per month correlation score')\n",
    "plt.savefig('output/popularity_correlation_score.png')\n",
    "plt.show()"
   ]
  },
  {
   "cell_type": "markdown",
   "metadata": {},
   "source": [
    "For values that affect the popularity, the feature score is smaller in comparision to the listing price. However we still can see some value that affect the popularity:\n",
    "- If the host has no profile picture, seems that the listing is not completed and not attrace people to visit\n",
    "- Despite the high price, the property type \"Boat\" still attract more people to review. Room type \"Chalet\" also attract more people. On the other hand, room type \"Tent\", despite has cheaper pricing, but not attract more people to visit and leave a comment.\n",
    "- For neigborhood, the more common listing Downtown, Beacon Hill attract more people, opposite with less popuplar place like Nortgate (has least listing also) and Interbay (two of the places has most cheapest rooms).\n",
    "- Other positive affect popularity is instant bookable, host is super host, and host quick response. The host require guest phone verification however negatively affect the popularity."
   ]
  },
  {
   "cell_type": "code",
   "execution_count": null,
   "metadata": {},
   "outputs": [],
   "source": []
  }
 ],
 "metadata": {
  "kernelspec": {
   "display_name": "Python 3",
   "language": "python",
   "name": "python3"
  },
  "language_info": {
   "codemirror_mode": {
    "name": "ipython",
    "version": 3
   },
   "file_extension": ".py",
   "mimetype": "text/x-python",
   "name": "python",
   "nbconvert_exporter": "python",
   "pygments_lexer": "ipython3",
   "version": "3.7.3"
  }
 },
 "nbformat": 4,
 "nbformat_minor": 2
}
